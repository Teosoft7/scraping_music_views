{
 "cells": [
  {
   "cell_type": "markdown",
   "metadata": {},
   "source": [
    "# Looking at YouTube view count growth for popular music videos"
   ]
  },
  {
   "cell_type": "markdown",
   "metadata": {},
   "source": [
    "## Strategy: \n",
    "\n",
    "1. We are going to write two scripts. One is going to get the url and title of the MV. Anotehr is going to write a script to collect the views of the music video from a specific time period. This should also contain the url. \n",
    "2. We are going to look at the #music video on YouTube"
   ]
  },
  {
   "cell_type": "markdown",
   "metadata": {},
   "source": [
    "## Importing our libraries "
   ]
  },
  {
   "cell_type": "code",
   "execution_count": 1,
   "metadata": {},
   "outputs": [],
   "source": [
    "import pandas as pd\n",
    "import random\n",
    "import time\n",
    "\n",
    "from selenium.webdriver import Chrome\n",
    "from pymongo import MongoClient \n",
    "from datetime import datetime"
   ]
  },
  {
   "cell_type": "markdown",
   "metadata": {},
   "source": [
    "## Initializing test browser"
   ]
  },
  {
   "cell_type": "code",
   "execution_count": 2,
   "metadata": {},
   "outputs": [],
   "source": [
    "browser = Chrome()"
   ]
  },
  {
   "cell_type": "markdown",
   "metadata": {},
   "source": [
    "## Connect to MongoDB (localhost)"
   ]
  },
  {
   "cell_type": "code",
   "execution_count": 3,
   "metadata": {},
   "outputs": [],
   "source": [
    "connection = MongoClient()\n",
    "db = connection['music_scraping']"
   ]
  },
  {
   "cell_type": "markdown",
   "metadata": {},
   "source": [
    "## Get Music Video List on Youtube\n",
    "\n",
    "Get music video list with youtue and store it to MongoDB"
   ]
  },
  {
   "cell_type": "code",
   "execution_count": 4,
   "metadata": {},
   "outputs": [],
   "source": [
    "# open Youtube page \n",
    "url = \"https://www.youtube.com/results?search_query=%23music+video\"\n",
    "browser.get(url)\n",
    "time.sleep(3)\n",
    "\n",
    "# Get video title & URL\n",
    "videolinks = browser.find_elements_by_id('video-title')\n",
    "videos = [(link.text, link.get_attribute('href')) for link in videolinks]\n",
    "\n",
    "# Store to mongodb collection('videos')\n",
    "coll = db['videos']\n",
    "for title, url in videos:\n",
    "    coll.insert_one({'title': title,\n",
    "                 'url': url })"
   ]
  },
  {
   "cell_type": "code",
   "execution_count": 5,
   "metadata": {},
   "outputs": [
    {
     "data": {
      "text/plain": [
       "20"
      ]
     },
     "execution_count": 5,
     "metadata": {},
     "output_type": "execute_result"
    }
   ],
   "source": [
    "coll.count_documents({})"
   ]
  },
  {
   "cell_type": "markdown",
   "metadata": {},
   "source": [
    "## Define get_view_count function\n",
    "\n",
    "Open Youtube URL and get view count on the page"
   ]
  },
  {
   "cell_type": "code",
   "execution_count": 6,
   "metadata": {},
   "outputs": [],
   "source": [
    "def get_view_count(browser, url):\n",
    "    \"\"\"Return the view_count and timestamp\"\"\"\n",
    "    browser.get(url)\n",
    "    time.sleep(3)\n",
    "    now = datetime.now()\n",
    "    sel = 'span.view-count'\n",
    "    view_count = browser.find_element_by_css_selector(sel).text\n",
    "\n",
    "    return {\n",
    "        'view_count': int(''.join([n for n in view_count if n.isdigit()])),\n",
    "        'timestamp': now } "
   ]
  },
  {
   "cell_type": "markdown",
   "metadata": {},
   "source": [
    "## Get video list from MongoDB & Get view count every 10 mins"
   ]
  },
  {
   "cell_type": "code",
   "execution_count": 7,
   "metadata": {},
   "outputs": [],
   "source": [
    "# connect to mongodb and get all videos\n",
    "connection = MongoClient()\n",
    "db = connection['music_scraping']\n",
    "coll = db['videos']\n",
    "cur = coll.find({})"
   ]
  },
  {
   "cell_type": "code",
   "execution_count": 8,
   "metadata": {},
   "outputs": [
    {
     "name": "stdout",
     "output_type": "stream",
     "text": [
      "Dua Lipa - New Rules (Official Music Video)\n",
      "Marshmello - Alone (Official Music Video)\n",
      "Trey Songz - Animal [Official Music Video]\n",
      "Cardi B - Money [Official Music Video]\n",
      "Hozier - Almost (Sweet Music) (Official Video)\n",
      "Marshmello - Tell Me (Official Music Video)\n",
      "Post Malone - \"Wow.\" (Official Music Video)\n",
      "Lil Dicky - Freaky Friday feat. Chris Brown (Official Music Video)\n",
      "6IX9INE \"Gotti\" (WSHH Exclusive - Official Music Video)\n",
      "Rudy Mancuso - Mama (Official Music Video)\n",
      "Marshmello & Anne-Marie - FRIENDS (Music Video by Sofie Dossi)\n",
      "XXXTENTACION - BAD! (Official Music Video)\n",
      "Camila Cabello - Havana (Official Music VIdeo) ft. Young Thug\n",
      "Katy Perry - Making of “Bon Appétit” Music Video ft. Migos\n",
      "Shakira - Can't Remember to Forget You (Official Music Video) ft. Rihanna\n",
      "Lorn - Acid Rain (Official Music Video)\n",
      "Little Mix - Black Magic (Official Music Video)\n",
      "Lele Pons - Celoso (Official Music Video)\n",
      "Marshmello - Blocks (Official Music Video)\n",
      "Lele Pons & Fuego - Bloqueo (Official Music Video)\n"
     ]
    }
   ],
   "source": [
    "# for each video, get view_count at now\n",
    "#while forever every 10 mins\n",
    "\n",
    "while True:\n",
    "    coll = db['view_count']\n",
    "    for video in cur:\n",
    "        print(video['title'])\n",
    "        count = get_view_count(browser, video['url'])\n",
    "        coll.insert_one({\n",
    "            'title': video['title'],\n",
    "            'view_count': count['view_count'],\n",
    "            'timestamp': count['timestamp']\n",
    "        })\n",
    "    time.sleep(600)    \n",
    "    "
   ]
  },
  {
   "cell_type": "markdown",
   "metadata": {},
   "source": [
    "## Check the result"
   ]
  },
  {
   "cell_type": "code",
   "execution_count": 9,
   "metadata": {},
   "outputs": [],
   "source": [
    "coll = db['view_count']\n",
    "# query = {'title': 'Taylor Swift - ME! (feat. Brendon Urie of Panic! At The Disco)'}\n",
    "query={}\n",
    "cur = coll.find(query)\n",
    "\n",
    "df = pd.DataFrame(list(cur))"
   ]
  },
  {
   "cell_type": "code",
   "execution_count": 10,
   "metadata": {},
   "outputs": [
    {
     "data": {
      "text/html": [
       "<div>\n",
       "<style scoped>\n",
       "    .dataframe tbody tr th:only-of-type {\n",
       "        vertical-align: middle;\n",
       "    }\n",
       "\n",
       "    .dataframe tbody tr th {\n",
       "        vertical-align: top;\n",
       "    }\n",
       "\n",
       "    .dataframe thead th {\n",
       "        text-align: right;\n",
       "    }\n",
       "</style>\n",
       "<table border=\"1\" class=\"dataframe\">\n",
       "  <thead>\n",
       "    <tr style=\"text-align: right;\">\n",
       "      <th></th>\n",
       "      <th>_id</th>\n",
       "      <th>timestamp</th>\n",
       "      <th>title</th>\n",
       "      <th>view_count</th>\n",
       "    </tr>\n",
       "  </thead>\n",
       "  <tbody>\n",
       "    <tr>\n",
       "      <th>0</th>\n",
       "      <td>5cc3dc3a1fc070103bd52faa</td>\n",
       "      <td>2019-04-26 21:36:10.482</td>\n",
       "      <td>Dua Lipa - New Rules (Official Music Video)</td>\n",
       "      <td>1757152189</td>\n",
       "    </tr>\n",
       "    <tr>\n",
       "      <th>1</th>\n",
       "      <td>5cc3dc3f1fc070103bd52fab</td>\n",
       "      <td>2019-04-26 21:36:14.978</td>\n",
       "      <td>Marshmello - Alone (Official Music Video)</td>\n",
       "      <td>1297324712</td>\n",
       "    </tr>\n",
       "    <tr>\n",
       "      <th>2</th>\n",
       "      <td>5cc3dc421fc070103bd52fac</td>\n",
       "      <td>2019-04-26 21:36:18.951</td>\n",
       "      <td>Trey Songz - Animal [Official Music Video]</td>\n",
       "      <td>63851539</td>\n",
       "    </tr>\n",
       "    <tr>\n",
       "      <th>3</th>\n",
       "      <td>5cc3dc471fc070103bd52fad</td>\n",
       "      <td>2019-04-26 21:36:22.998</td>\n",
       "      <td>Cardi B - Money [Official Music Video]</td>\n",
       "      <td>67298340</td>\n",
       "    </tr>\n",
       "    <tr>\n",
       "      <th>4</th>\n",
       "      <td>5cc3dc4a1fc070103bd52fae</td>\n",
       "      <td>2019-04-26 21:36:26.710</td>\n",
       "      <td>Hozier - Almost (Sweet Music) (Official Video)</td>\n",
       "      <td>1456968</td>\n",
       "    </tr>\n",
       "  </tbody>\n",
       "</table>\n",
       "</div>"
      ],
      "text/plain": [
       "                        _id               timestamp  \\\n",
       "0  5cc3dc3a1fc070103bd52faa 2019-04-26 21:36:10.482   \n",
       "1  5cc3dc3f1fc070103bd52fab 2019-04-26 21:36:14.978   \n",
       "2  5cc3dc421fc070103bd52fac 2019-04-26 21:36:18.951   \n",
       "3  5cc3dc471fc070103bd52fad 2019-04-26 21:36:22.998   \n",
       "4  5cc3dc4a1fc070103bd52fae 2019-04-26 21:36:26.710   \n",
       "\n",
       "                                            title  view_count  \n",
       "0     Dua Lipa - New Rules (Official Music Video)  1757152189  \n",
       "1       Marshmello - Alone (Official Music Video)  1297324712  \n",
       "2      Trey Songz - Animal [Official Music Video]    63851539  \n",
       "3          Cardi B - Money [Official Music Video]    67298340  \n",
       "4  Hozier - Almost (Sweet Music) (Official Video)     1456968  "
      ]
     },
     "execution_count": 10,
     "metadata": {},
     "output_type": "execute_result"
    }
   ],
   "source": [
    "df.head()"
   ]
  },
  {
   "cell_type": "code",
   "execution_count": 13,
   "metadata": {},
   "outputs": [
    {
     "data": {
      "text/html": [
       "<div>\n",
       "<style scoped>\n",
       "    .dataframe tbody tr th:only-of-type {\n",
       "        vertical-align: middle;\n",
       "    }\n",
       "\n",
       "    .dataframe tbody tr th {\n",
       "        vertical-align: top;\n",
       "    }\n",
       "\n",
       "    .dataframe thead th {\n",
       "        text-align: right;\n",
       "    }\n",
       "</style>\n",
       "<table border=\"1\" class=\"dataframe\">\n",
       "  <thead>\n",
       "    <tr style=\"text-align: right;\">\n",
       "      <th></th>\n",
       "      <th>_id</th>\n",
       "      <th>timestamp</th>\n",
       "      <th>title</th>\n",
       "      <th>view_count</th>\n",
       "    </tr>\n",
       "  </thead>\n",
       "  <tbody>\n",
       "    <tr>\n",
       "      <th>0</th>\n",
       "      <td>5cc3dc3a1fc070103bd52faa</td>\n",
       "      <td>2019-04-26 21:36:10.482</td>\n",
       "      <td>Dua Lipa - New Rules (Official Music Video)</td>\n",
       "      <td>1757152189</td>\n",
       "    </tr>\n",
       "  </tbody>\n",
       "</table>\n",
       "</div>"
      ],
      "text/plain": [
       "                        _id               timestamp  \\\n",
       "0  5cc3dc3a1fc070103bd52faa 2019-04-26 21:36:10.482   \n",
       "\n",
       "                                         title  view_count  \n",
       "0  Dua Lipa - New Rules (Official Music Video)  1757152189  "
      ]
     },
     "execution_count": 13,
     "metadata": {},
     "output_type": "execute_result"
    }
   ],
   "source": [
    "coll = db['view_count']\n",
    "query = {\"title\" : \"Dua Lipa - New Rules (Official Music Video)\",}\n",
    "cur = coll.find(query)\n",
    "\n",
    "df = pd.DataFrame(list(cur))\n",
    "df"
   ]
  },
  {
   "cell_type": "markdown",
   "metadata": {},
   "source": [
    "## Close the broswer"
   ]
  },
  {
   "cell_type": "code",
   "execution_count": 14,
   "metadata": {},
   "outputs": [],
   "source": [
    "browser.close()"
   ]
  },
  {
   "cell_type": "code",
   "execution_count": null,
   "metadata": {},
   "outputs": [],
   "source": []
  }
 ],
 "metadata": {
  "kernelspec": {
   "display_name": "Python 3",
   "language": "python",
   "name": "python3"
  },
  "language_info": {
   "codemirror_mode": {
    "name": "ipython",
    "version": 3
   },
   "file_extension": ".py",
   "mimetype": "text/x-python",
   "name": "python",
   "nbconvert_exporter": "python",
   "pygments_lexer": "ipython3",
   "version": "3.7.3"
  }
 },
 "nbformat": 4,
 "nbformat_minor": 2
}
